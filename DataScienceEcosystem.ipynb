{
 "cells": [
  {
   "cell_type": "markdown",
   "id": "0fb49d10-b683-4262-bff3-d2f5d449fac2",
   "metadata": {},
   "source": [
    "# Data Science Tools and Ecosystem."
   ]
  },
  {
   "cell_type": "markdown",
   "id": "4b909b44-e09a-4040-85f1-be16dc44b1f5",
   "metadata": {},
   "source": [
    "## Introduction "
   ]
  },
  {
   "cell_type": "markdown",
   "id": "5d2cd0c0-5dc9-4375-a976-323279296367",
   "metadata": {},
   "source": [
    " In this notebook, Data Science Tools and Ecosystem are summarized"
   ]
  },
  {
   "cell_type": "markdown",
   "id": "2b6578d1-fc43-4e7e-9c71-27620d9e8233",
   "metadata": {},
   "source": [
    "**Objectives**\n",
    "* How to merge on GITHUB\n",
    "* How to pull request\n",
    "* How to run markdown cell and Code cell\n"
   ]
  },
  {
   "cell_type": "markdown",
   "id": "f2cc2f16-4187-4470-ac15-4cfa3e700cfb",
   "metadata": {},
   "source": [
    "### Data sciences languages "
   ]
  },
  {
   "cell_type": "markdown",
   "id": "861ceb17-2643-4698-b11e-4cbbd5555658",
   "metadata": {},
   "source": [
    "Some of the popular languages that Data Scientists use are:\n",
    "1. Python\n",
    "2. R\n",
    "3. Java\n",
    "4. Machine learning\n",
    "* ML\n"
   ]
  },
  {
   "cell_type": "markdown",
   "id": "3fce773a-94b9-41c5-bd59-31f772e16615",
   "metadata": {},
   "source": [
    "Some of the commonly used libraries used by Data Scientists include:\n",
    "* Jupyter notebook\n",
    "+ Anaconda\n",
    "* Cant recall "
   ]
  },
  {
   "cell_type": "markdown",
   "id": "4f99d201-d6ed-4e55-b417-7bb082879b8a",
   "metadata": {},
   "source": [
    "| Data science Tools|\n",
    "--------------------\n",
    "|MySQL|\n",
    "|Apache Seldom|\n",
    "|Postgre SQL|"
   ]
  },
  {
   "cell_type": "markdown",
   "id": "c14b50ae-8ac5-4135-a34f-3ecb9859c65e",
   "metadata": {},
   "source": [
    "### Below are a few examples of evaluating arithmetic expressions in Python"
   ]
  },
  {
   "cell_type": "code",
   "execution_count": 15,
   "id": "a4b359d5-4d01-4031-ac0f-965af14e94b9",
   "metadata": {},
   "outputs": [],
   "source": [
    "#This a simple arithmetic expression to mutiply then add integers#\n"
   ]
  },
  {
   "cell_type": "code",
   "execution_count": 16,
   "id": "695f275b-8d17-4154-b678-fb5b539d4515",
   "metadata": {},
   "outputs": [
    {
     "data": {
      "text/plain": [
       "17"
      ]
     },
     "execution_count": 16,
     "metadata": {},
     "output_type": "execute_result"
    }
   ],
   "source": [
    "(3*4)+5"
   ]
  },
  {
   "cell_type": "code",
   "execution_count": 17,
   "id": "028e5b0d-f7e6-409d-99c6-78904514af00",
   "metadata": {},
   "outputs": [],
   "source": [
    "#This will convert 200 minutes to hours by diving by 60#"
   ]
  },
  {
   "cell_type": "code",
   "execution_count": 18,
   "id": "389c4565-095b-4330-822d-874f5af5e762",
   "metadata": {},
   "outputs": [
    {
     "name": "stdout",
     "output_type": "stream",
     "text": [
      "3.3333333333333335\n"
     ]
    }
   ],
   "source": [
    "a = 200\n",
    "x = 60\n",
    "y = a/x\n",
    "print(y)"
   ]
  },
  {
   "cell_type": "markdown",
   "id": "a6b2543d-c020-4c75-8e59-ef4db19635dd",
   "metadata": {},
   "source": [
    "## Author:\n",
    "**YUSUFF TOYEEB AJIBOLA**\n"
   ]
  }
 ],
 "metadata": {
  "kernelspec": {
   "display_name": "Python 3 (ipykernel)",
   "language": "python",
   "name": "python3"
  },
  "language_info": {
   "codemirror_mode": {
    "name": "ipython",
    "version": 3
   },
   "file_extension": ".py",
   "mimetype": "text/x-python",
   "name": "python",
   "nbconvert_exporter": "python",
   "pygments_lexer": "ipython3",
   "version": "3.9.19"
  }
 },
 "nbformat": 4,
 "nbformat_minor": 5
}
